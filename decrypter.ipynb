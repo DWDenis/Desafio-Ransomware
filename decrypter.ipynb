{
 "cells": [
  {
   "cell_type": "markdown",
   "metadata": {},
   "source": [
    "## Decrypter do file"
   ]
  },
  {
   "cell_type": "code",
   "execution_count": null,
   "metadata": {},
   "outputs": [],
   "source": [
    "import os\n",
    "import pyaes\n",
    "\n",
    "## abri o arquivo criptografado\n",
    "file_name = \"teste.txt.achouqueeuestavabrincando\"\n",
    "file = open(file_name, \"rb\")\n",
    "file_data = file.read()\n",
    "file.close()\n",
    "\n",
    "## chave de uso\n",
    "key = b\"testeransomwares\"\n",
    "aes = pyaes.AESModeOfOperationCTR(key)\n",
    "decrypt_data = aes.decrypt(file_data)\n",
    "\n",
    "## remove o arquivo criptografado\n",
    "os.remove(file_name)\n",
    "\n",
    "## criar o arquivo descriptografado\n",
    "new_file = \"teste.txt\"\n",
    "new_file = open(f'{new_file}', \"wb\")\n",
    "new_file.write(decrypt_data)\n",
    "new_file.close()"
   ]
  }
 ],
 "metadata": {
  "language_info": {
   "name": "python"
  }
 },
 "nbformat": 4,
 "nbformat_minor": 2
}
